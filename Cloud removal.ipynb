{
  "cells": [
    {
      "cell_type": "markdown",
      "metadata": {
        "id": "view-in-github",
        "colab_type": "text"
      },
      "source": [
        "<a href=\"https://colab.research.google.com/github/mohamed-yassine-benkhadda/Cloud_removal/blob/main/Cloud%20removal.ipynb\" target=\"_parent\"><img src=\"https://colab.research.google.com/assets/colab-badge.svg\" alt=\"Open In Colab\"/></a>"
      ]
    },
    {
      "cell_type": "markdown",
      "source": [
        "# ✅ Task 1 : Image segmentation\n",
        "\n",
        "## In this task we will build a model able to detect the occurrences of cloud in the given images and generate a mask for these clouds ☁"
      ],
      "metadata": {
        "id": "QF8RNBygBZmc"
      }
    },
    {
      "cell_type": "markdown",
      "source": [
        "### Import libraries 🧰"
      ],
      "metadata": {
        "id": "gbirt8B1DCu7"
      }
    },
    {
      "cell_type": "code",
      "execution_count": 11,
      "metadata": {
        "id": "yiAh491OBXk3"
      },
      "outputs": [],
      "source": [
        "import os\n",
        "from google.colab import drive\n",
        "import matplotlib.pyplot as plt\n",
        "from google.colab.patches import cv2_imshow\n",
        "from PIL import Image\n",
        "import numpy as np\n",
        "import cv2\n",
        "import torch\n",
        "from torch.utils.data import Dataset, DataLoader, sampler\n",
        "from pathlib import Path\n",
        "from PIL import Image\n",
        "import matplotlib.pyplot as plt\n",
        "import re\n",
        "import random\n",
        "import math"
      ]
    },
    {
      "cell_type": "markdown",
      "source": [
        "### Download data from Kaggle ⬇\n",
        "The data we will use for this task is provided by kaggle : \n",
        "https://www.kaggle.com/datasets/sorour/38cloud-cloud-segmentation-in-satellite-images\n",
        "\n",
        "![image.png](data:image/png;base64,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)"
      ],
      "metadata": {
        "id": "HjPs0eI_Dm05"
      }
    },
    {
      "cell_type": "code",
      "source": [
        "# Connect to Google Drive\n",
        "drive.mount('/content/drive')"
      ],
      "metadata": {
        "id": "3hxPq7kpDgRy",
        "outputId": "7a1b1ef0-21df-4803-c614-cb81069cea21",
        "colab": {
          "base_uri": "https://localhost:8080/"
        }
      },
      "execution_count": 2,
      "outputs": [
        {
          "output_type": "stream",
          "name": "stdout",
          "text": [
            "Mounted at /content/drive\n"
          ]
        }
      ]
    },
    {
      "cell_type": "code",
      "source": [
        "# Locate the json file\n",
        "os.environ['KAGGLE_CONFIG_DIR'] = \"/content/drive/MyDrive/Kaggle\""
      ],
      "metadata": {
        "id": "cDanjq-pEYCf"
      },
      "execution_count": 3,
      "outputs": []
    },
    {
      "cell_type": "code",
      "source": [
        "# Download and unzip the dataset\n",
        "!kaggle datasets download -d sorour/38cloud-cloud-segmentation-in-satellite-images --unzip"
      ],
      "metadata": {
        "id": "3BJJxTn5Er2j",
        "outputId": "0514017f-3131-458c-ca41-64433015aa29",
        "colab": {
          "base_uri": "https://localhost:8080/"
        }
      },
      "execution_count": 4,
      "outputs": [
        {
          "output_type": "stream",
          "name": "stdout",
          "text": [
            "Downloading 38cloud-cloud-segmentation-in-satellite-images.zip to /content\n",
            "100% 12.1G/12.2G [01:38<00:00, 144MB/s]\n",
            "100% 12.2G/12.2G [01:38<00:00, 133MB/s]\n"
          ]
        }
      ]
    },
    {
      "cell_type": "markdown",
      "source": [
        "### Define the dataset class 📪"
      ],
      "metadata": {
        "id": "AjT64kqmGwxn"
      }
    },
    {
      "cell_type": "code",
      "source": [
        "# define random seed\n",
        "random.seed(42)"
      ],
      "metadata": {
        "id": "vp6czhJ_RM5z"
      },
      "execution_count": 53,
      "outputs": []
    },
    {
      "cell_type": "code",
      "source": [
        "# Dataset Class\n",
        "class CloudDataset(Dataset):\n",
        "    def __init__(self, r_dir, base_dir,train=True,pytorch=True):\n",
        "        super().__init__()\n",
        "        self.files = []\n",
        "        for f in os.listdir(base_dir/r_dir):\n",
        "            pattern = \".+(LC.*)\"\n",
        "            x = re.search(pattern, f)\n",
        "            if train:\n",
        "              self.files.append({\n",
        "                  \"red\" : base_dir/\"train_red\"/f,\n",
        "                  \"green\" : base_dir/\"train_green\"/f.replace(\"red\",\"green\"),\n",
        "                  \"blue\" : base_dir/\"train_blue\"/f.replace(\"red\",\"blue\"),\n",
        "                  \"nir\" : base_dir/\"train_nir\"/f.replace(\"red\",\"nir\"),\n",
        "                  \"gt\" : base_dir/\"train_gt\"/f.replace(\"red\",\"gt\"),\n",
        "              })\n",
        "            else:\n",
        "              self.files.append({\n",
        "                  \"red\" : base_dir/\"test_red\"/f,\n",
        "                  \"green\" : base_dir/\"test_green\"/f.replace(\"red\",\"green\"),\n",
        "                  \"blue\" : base_dir/\"test_blue\"/f.replace(\"red\",\"blue\"),\n",
        "                  \"nir\" : base_dir/\"test_nir\"/f.replace(\"red\",\"nir\"),\n",
        "                  \"gt\" : base_dir/\"test_gt\"/f.replace(\"red\",\"gt\"),\n",
        "              })\n",
        "    def split_train_test(self, ratio = 0.7):\n",
        "        self.X_train = []\n",
        "        self.Y_train = []\n",
        "        self.X_test = []\n",
        "        self.Y_test = []\n",
        "        self.shuffle()\n",
        "        elements = len(self.files)\n",
        "        middle = int(elements * ratio)\n",
        "        train_files = self.files[:middle]\n",
        "        test_files = self.files[middle:]         \n",
        "        for f in train_files:\n",
        "            try:\n",
        "              pic_red = cv2.imread(str(f[\"red\"]))\n",
        "              pic_red.resize((384,384,1))\n",
        "              pic_green = cv2.imread(str(f[\"green\"]))\n",
        "              pic_green.resize((384,384,1))\n",
        "              pic_blue = cv2.imread(str(f[\"blue\"]))\n",
        "              pic_blue.resize((384,384,1))\n",
        "              pic_gt = cv2.imread(str(f[\"gt\"]))\n",
        "              pic_gt = cv2.cvtColor(pic_gt, cv2.COLOR_BGR2GRAY)\n",
        "              pic_nir = cv2.imread(str(f[\"nir\"]))\n",
        "              pic_nir.resize((384,384,1))\n",
        "              pic = (np.dstack((pic_green,pic_blue,pic_red,pic_nir)) * 255.999) .astype(np.uint8)\n",
        "              self.X_train.append(pic)\n",
        "              self.Y_train.append(pic_gt)\n",
        "            except:\n",
        "              pass\n",
        "        for f in test_files:\n",
        "            try:\n",
        "              pic_red = cv2.imread(str(f[\"red\"]))\n",
        "              pic_red.resize((384,384,1))\n",
        "              pic_green = cv2.imread(str(f[\"green\"]))\n",
        "              pic_green.resize((384,384,1))\n",
        "              pic_blue = cv2.imread(str(f[\"blue\"]))\n",
        "              pic_blue.resize((384,384,1))\n",
        "              pic_gt = cv2.imread(str(f[\"gt\"]))\n",
        "              pic_gt = cv2.cvtColor(pic_gt, cv2.COLOR_BGR2GRAY)\n",
        "              pic_nir = cv2.imread(str(f[\"nir\"]))\n",
        "              pic_nir.resize((384,384,1))\n",
        "              pic = (np.dstack((pic_green,pic_blue,pic_red,pic_nir)) * 255.999) .astype(np.uint8)\n",
        "              self.X_test.append(pic)\n",
        "              self.Y_test.append(pic_gt)\n",
        "            except:\n",
        "              pass\n",
        "        return (self.X_train,self.Y_train),(self.X_test,self.Y_test)\n",
        "                                       \n",
        "    def __len__(self):\n",
        "        return len(self.files)\n",
        "\n",
        "    def shuffle(self):\n",
        "        return random.shuffle(self.files)"
      ],
      "metadata": {
        "id": "9f6UE8wbE0Nw"
      },
      "execution_count": 45,
      "outputs": []
    },
    {
      "cell_type": "code",
      "source": [
        "# Instantiate train and test data\n",
        "base_train = Path('/content/38-Cloud_training')\n",
        "base_test = Path('/content/38-Cloud_test')\n",
        "data = CloudDataset(base_dir=base_train,r_dir='train_red')\n",
        "test_data = CloudDataset(base_dir=base_test,r_dir='test_red',train=False)"
      ],
      "metadata": {
        "id": "qmMsPDK1HKzm"
      },
      "execution_count": 46,
      "outputs": []
    },
    {
      "cell_type": "code",
      "source": [
        "# Merge test and train data\n",
        "data.files += test_data.files"
      ],
      "metadata": {
        "id": "omr2njc3Hp2F"
      },
      "execution_count": 47,
      "outputs": []
    },
    {
      "cell_type": "code",
      "source": [
        "# Shuffle data\n",
        "data.shuffle()"
      ],
      "metadata": {
        "id": "-1cfjwE6Hvot"
      },
      "execution_count": 48,
      "outputs": []
    },
    {
      "cell_type": "code",
      "source": [
        "# Split data\n",
        "(X_train,Y_train),(X_test,Y_test) = data.split_train_test(ratio = 0.7)"
      ],
      "metadata": {
        "id": "OfWS817fHye5"
      },
      "execution_count": 49,
      "outputs": []
    },
    {
      "cell_type": "markdown",
      "source": [
        "### Build the model 💻\n",
        "For this task we will use U-Net model\n",
        "![](https://miro.medium.com/max/1400/1*J3t2b65ufsl1x6caf6GiBA.png)\n"
      ],
      "metadata": {
        "id": "-sOoBrSURdXv"
      }
    },
    {
      "cell_type": "code",
      "source": [
        ""
      ],
      "metadata": {
        "id": "8rN1E-xDMCNg"
      },
      "execution_count": 53,
      "outputs": []
    },
    {
      "cell_type": "code",
      "source": [
        ""
      ],
      "metadata": {
        "id": "fceHPbf-MdSM"
      },
      "execution_count": null,
      "outputs": []
    }
  ],
  "metadata": {
    "kernelspec": {
      "display_name": "Python 3 (ipykernel)",
      "language": "python",
      "name": "python3"
    },
    "language_info": {
      "codemirror_mode": {
        "name": "ipython",
        "version": 3
      },
      "file_extension": ".py",
      "mimetype": "text/x-python",
      "name": "python",
      "nbconvert_exporter": "python",
      "pygments_lexer": "ipython3",
      "version": "3.8.10"
    },
    "varInspector": {
      "cols": {
        "lenName": 16,
        "lenType": 16,
        "lenVar": 40
      },
      "kernels_config": {
        "python": {
          "delete_cmd_postfix": "",
          "delete_cmd_prefix": "del ",
          "library": "var_list.py",
          "varRefreshCmd": "print(var_dic_list())"
        },
        "r": {
          "delete_cmd_postfix": ") ",
          "delete_cmd_prefix": "rm(",
          "library": "var_list.r",
          "varRefreshCmd": "cat(var_dic_list()) "
        }
      },
      "types_to_exclude": [
        "module",
        "function",
        "builtin_function_or_method",
        "instance",
        "_Feature"
      ],
      "window_display": false
    },
    "colab": {
      "name": "Cloud removal.ipynb",
      "provenance": [],
      "include_colab_link": true
    }
  },
  "nbformat": 4,
  "nbformat_minor": 0
}